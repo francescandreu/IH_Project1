{
 "cells": [
  {
   "cell_type": "code",
   "execution_count": 1042,
   "metadata": {},
   "outputs": [],
   "source": [
    "import pandas as pd\n",
    "import numpy as np\n",
    "import seaborn as sns\n",
    "import matplotlib.pyplot as plt"
   ]
  },
  {
   "cell_type": "code",
   "execution_count": 1043,
   "id": "fb484e69",
   "metadata": {},
   "outputs": [],
   "source": [
    "# Load csv file into dataset\n",
    "attacks_raw = pd.read_csv(\"../data/attacks.csv\", encoding='unicode_escape')"
   ]
  },
  {
   "cell_type": "code",
   "execution_count": 1044,
   "id": "ea2e574c",
   "metadata": {},
   "outputs": [],
   "source": [
    "# Rename columns where their name is ending in a blank space\n",
    "attacks_raw.rename(columns={'Sex ': 'Sex',\n",
    "                            'Species ': 'Species',\n",
    "                            'Fatal (Y/N)': 'Fatal'}, inplace=True, errors='raise')"
   ]
  },
  {
   "cell_type": "code",
   "execution_count": 1045,
   "id": "daaeb38b",
   "metadata": {},
   "outputs": [],
   "source": [
    "# Drop columns of information not valuable to study\n",
    "columns_to_drop = [\"pdf\", \"Investigator or Source\", \"href formula\", \"href\", \"Case Number.1\", \"Case Number.2\", \"original order\", \"Unnamed: 22\", \"Unnamed: 23\"]\n",
    "attacks_raw.drop(columns=columns_to_drop, inplace=True)"
   ]
  },
  {
   "cell_type": "code",
   "execution_count": 1046,
   "id": "34b0671e",
   "metadata": {},
   "outputs": [],
   "source": [
    "# Clear dataset of rows with at least three values as NA\n",
    "attacks_raw.dropna(how=\"all\", inplace=True)\n",
    "attacks_raw.dropna(thresh=6, inplace=True)"
   ]
  },
  {
   "cell_type": "code",
   "execution_count": 1047,
   "id": "e8b15fbb",
   "metadata": {},
   "outputs": [],
   "source": [
    "# Clear dataset of rows where Year is before 1900, when no year given or bad data\n",
    "attacks_raw.drop(attacks_raw[attacks_raw.Year < 1900].index, inplace=True)\n",
    "attacks_raw = attacks_raw[attacks_raw['Year'].notna()]"
   ]
  },
  {
   "cell_type": "code",
   "execution_count": 1048,
   "id": "adb65254",
   "metadata": {},
   "outputs": [],
   "source": [
    "# Refactor Country as upper strings\n",
    "attacks_raw['Country'] = attacks_raw['Country'].str.upper()"
   ]
  },
  {
   "cell_type": "code",
   "execution_count": 1049,
   "id": "ecd85403",
   "metadata": {},
   "outputs": [],
   "source": [
    "# Refactor and clean Date column to dateformat and drop other date related columns\n",
    "attacks_raw['Date'] = attacks_raw['Date'].str.extract('(\\d{2}-\\w{3}-\\d{4})')\n",
    "attacks_raw = attacks_raw[attacks_raw['Date'].notna()]\n",
    "attacks_raw[\"datetime\"] = pd.to_datetime(attacks_raw['Date'], format='%d-%b-%Y')\n",
    "col = attacks_raw.pop(\"datetime\")\n",
    "attacks_raw.insert(0, col.name, col)\n",
    "date_columns = [\"Case Number\", \"Date\", \"Year\", \"Time\"]\n",
    "attacks_raw.drop(columns=date_columns, inplace=True)"
   ]
  },
  {
   "cell_type": "code",
   "execution_count": 1050,
   "id": "20d0d1c1",
   "metadata": {},
   "outputs": [],
   "source": [
    "# Refactor Type column to have similar values and drop invalids\n",
    "attacks_raw.Type.replace('Boatomg', 'Boat', inplace=True)\n",
    "attacks_raw.Type.replace('Boating', 'Boat', inplace=True)\n",
    "attacks_raw.drop(attacks_raw[attacks_raw.Type == 'Invalid'].index, inplace=True)"
   ]
  },
  {
   "cell_type": "code",
   "execution_count": 1051,
   "id": "f295d6db",
   "metadata": {},
   "outputs": [],
   "source": [
    "# Refactor Sex column to: M(male), F(female), nan(other)\n",
    "attacks_raw.Sex = attacks_raw.Sex.str.strip()\n",
    "attacks_raw.Sex.replace('lli', 'M', inplace=True)\n",
    "attacks_raw.Sex.replace('N', np.nan, inplace=True)\n",
    "attacks_raw.Sex.replace('.', np.nan, inplace=True)"
   ]
  },
  {
   "cell_type": "code",
   "execution_count": 1052,
   "id": "d932fe95",
   "metadata": {},
   "outputs": [],
   "source": [
    "# Refactor Fatal column to: Y(yes), N(no), nan(unknown)\n",
    "attacks_raw.Fatal.replace('UNKNOWN', np.nan, inplace=True)\n",
    "attacks_raw.Fatal.replace('2017', np.nan, inplace=True)\n",
    "attacks_raw.Fatal.replace(' N', np.nan, inplace=True)\n",
    "attacks_raw.Fatal.replace('M', np.nan, inplace=True)"
   ]
  },
  {
   "cell_type": "code",
   "execution_count": 1053,
   "id": "29d0adb0",
   "metadata": {},
   "outputs": [
    {
     "name": "stdout",
     "output_type": "stream",
     "text": [
      "Before:  138\n",
      "After:  130\n",
      "['57', '11', nan, '18', '52', '15', '12', '32', '10', '30', '60', '33', '29', '54', '34', '41', '37', '19', '25', '38', '55', '35', '45', '40s', '28', '20', '24', '26', '49', '14', '22', '7', '31', '17', '40', '13', '42', '3', '69', '50', '46', '16', '82', '48', '20s', '21', '51', '39', '58', 'Teen', '47', '61', '65', '73', '36', '66', '43', '60s', '9', '72', '59', '6', '64', '23', '71', '44', '27', '62', '68', '63', '70', '18 months', '53', '30s', '50s', '8', 'teen', '77', '74', '56', '28 & 26', '5', '86', '18 or 20', '12 or 13', '46 & 34', '28, 23 & 30', 'Teens', '36 & 26', '84', '', '30 or 36', '6½', '21 & ?', '33 or 37', 'mid-30s', '7      &    31', '20?', '32 & 30', '87', 'Elderly', '75', '21 or 26', '>50', '18 to 22', 'adult', '9 & 12', '(adult)', '33 & 37', '25 or 28', '30 & 32', '50 & 30', '17 & 35', 'X', '13 or 18', '33 & 26', 'MAKE LINE GREEN', '81', '\"young\"', '17 & 16', 'F', 'Both 11', '9 or 10', 'young', '36 & 23', '78', 'A.M.', '?    &   14', '10 or 12', '31 or 33']\n"
     ]
    }
   ],
   "source": [
    "# Cleaning Age\n",
    "print(\"Before: \",len(list(attacks_raw[\"Age\"].unique())))\n",
    "attacks_raw.Age = attacks_raw.Age.str.strip()\n",
    "\n",
    "\n",
    "print(\"After: \",len(list(attacks_raw[\"Age\"].unique())))\n",
    "print(list(attacks_raw[\"Age\"].unique()))\n"
   ]
  },
  {
   "cell_type": "code",
   "execution_count": 1054,
   "id": "7cf9a965",
   "metadata": {},
   "outputs": [],
   "source": [
    "# Cleaning Activity\n",
    "attacks_raw.Activity = attacks_raw.Activity.str.lower()\n",
    "attacks_raw.Activity = attacks_raw.Activity.str.strip()\n",
    "\n",
    "activities_to_clean = [['surf','surfing'], ['board','surfing'], ['fish','fishing'], ['swim','swimming'], ['diving','diving'], \n",
    "                       ['boat','boat'], ['float', 'floating'], ['bath','bathing'], ['snork','snorkeling'], ['jump','jumping'], ['sail', 'boat'], \n",
    "                       ['row','rowing sports'], ['kayak', 'rowing sports'], ['canoeing','rowing sports'], ['padd','rowing sports'],\n",
    "                       ['stand','standing'], ['drift', 'drifting'], ['tread','treading'], ['disaster', 'shipwreck'], ['feed','feeding sharks'],\n",
    "                       ['sank','shipwreck'], ['sit','sitting'], ['walk','walking'], ['sink','shipwreck'], ['film','filming']]\n",
    "for match, new in activities_to_clean:\n",
    "    attacks_raw.Activity = attacks_raw.Activity.str.replace('(^.*'+match+'.*$)', new, regex = True)\n",
    "popular_activities = attacks_raw.Activity.value_counts()[0:20].index.tolist()\n",
    "attacks_raw.loc[~attacks_raw[\"Activity\"].isin(popular_activities), \"Activity\"] = \"other\"\n"
   ]
  },
  {
   "cell_type": "code",
   "execution_count": 1056,
   "id": "879b8461",
   "metadata": {},
   "outputs": [],
   "source": [
    "# Cleaning Species\n",
    "attacks_raw.Species = attacks_raw.Species.str.lower()\n",
    "attacks_raw.Species = attacks_raw.Species.str.strip()\n",
    "\n",
    "species_to_clean = [['white','white'], ['tiger','tiger'], ['lemon','lemon'], ['bull','bull'], ['grey reef','grey reef'], ['reef','reef'],\n",
    "                    ['wobbegong','wobbegong'], ['black','blacktip'], ['galapagos', 'galapagos'], ['nurse','nurse'], ['catshark','cat'],\n",
    "                    ['cookie','cookiecutter'], ['spinner','spinner'], ['blue','blue'], ['caribbean reef','caribbean reef'],\n",
    "                    ['smooth hound','smooth hound'], ['sevengill','sevengill'], ['seven-gill','sevengill'], ['angel','angel'], ['copper','copper'],\n",
    "                    ['dogfish','dogfish'], ['mako','mako'], ['bronze whale','copper'], ['hammerhead','hammerhead'], ['raggedtooth', 'raggedtooth'], \n",
    "                    ['goblin', 'goblin'], ['silky', 'silky'], ['sandbar','sandbar'], ['sand shark','raggedtooth'], ['porbeagle','porbeagle'],\n",
    "                    ['7-gill','sevengill'], ['salmon','salmon'], ['zambesi','zambesi'], ['thresher','thresher'], ['spurdog','spurdog'],\n",
    "                    ['dusky','dusky'], ['basking','basking'], ['whale','whale'], ['soupfin','soupfin'], ['zambezi','zambezi'], ['carpet','carpet'],\n",
    "                    ['bonita','bonita'], ['leopard','leopard'], ['shovelnose','shovelnose'], ['leucas','bull'], ['shark','unkown'], ['unident','unkown']]\n",
    "for match, new in species_to_clean:\n",
    "    attacks_raw.Species = attacks_raw.Species.str.replace('(^.*'+match+'.*$)', new, regex = True)\n",
    "attacks_raw.Species = attacks_raw.Species.fillna('unkown')"
   ]
  }
 ],
 "metadata": {
  "kernelspec": {
   "display_name": "Python 3.9.13 ('Ironhack')",
   "language": "python",
   "name": "python3"
  },
  "language_info": {
   "codemirror_mode": {
    "name": "ipython",
    "version": 3
   },
   "file_extension": ".py",
   "mimetype": "text/x-python",
   "name": "python",
   "nbconvert_exporter": "python",
   "pygments_lexer": "ipython3",
   "version": "3.9.13"
  },
  "vscode": {
   "interpreter": {
    "hash": "9b18603bc994250422e49e22e4537a66eb59e0e9932322e196d88f02f10586ad"
   }
  }
 },
 "nbformat": 4,
 "nbformat_minor": 5
}
